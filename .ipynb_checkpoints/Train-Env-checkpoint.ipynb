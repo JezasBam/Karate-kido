{
 "cells": [
  {
   "cell_type": "markdown",
   "id": "93522d4c-360e-41c4-974f-2b6120c8619d",
   "metadata": {},
   "source": [
    "1. Install and Import Dependencies"
   ]
  },
  {
   "cell_type": "code",
   "execution_count": 1,
   "id": "fee5bfef-3922-4988-9779-c07d4df3dc65",
   "metadata": {},
   "outputs": [],
   "source": [
    "import cv2\n",
    "import numpy as np\n",
    "from matplotlib import pyplot as plt\n",
    "import pytesseract\n",
    "import time\n",
    "import pydirectinput\n",
    "import gymnasium\n",
    "from gymnasium.spaces import Box, Discrete\n",
    "from gymnasium import Env\n",
    "from mss import mss"
   ]
  },
  {
   "cell_type": "code",
   "execution_count": 2,
   "id": "0e90f0c4-9efe-4216-b0c6-6e0a8b5678e5",
   "metadata": {},
   "outputs": [],
   "source": [
    "class WebGame(Env):\n",
    "    def __init__(self):\n",
    "        super().__init__()\n",
    "        # Set up spaces\n",
    "        self.observation_space = Box(low=0, high=255, shape=(1, 83, 100), dtype=np.uint8)\n",
    "        self.action_space = Discrete(3)\n",
    "\n",
    "        # Capture game frames\n",
    "        self.cap = mss()\n",
    "        self.game_location = {'top': 300, 'left': 350, 'width': 350, 'height': 600}\n",
    "        self.done_location = {'top': 930, 'left': 330, 'width': 300, 'height': 60}\n",
    "\n",
    "    def seed(self, seed=None):\n",
    "        self.np_random, seed = gymnasium.utils.seeding.np_random(seed)\n",
    "        return [seed]\n",
    "\n",
    "    def step(self, action):\n",
    "        action_map = {\n",
    "            0: 'left',\n",
    "            1: 'right',\n",
    "            2: 'no_op'\n",
    "        }\n",
    "    \n",
    "        if action != 2:\n",
    "            pydirectinput.press(action_map[action])\n",
    "    \n",
    "        done, done_cap = self.get_done()\n",
    "        observation = self.get_observation()\n",
    "    \n",
    "        if action == 0:\n",
    "            reward = 0.5\n",
    "        elif action == 1:\n",
    "            reward = 0.5\n",
    "        else:\n",
    "            reward = -1\n",
    "    \n",
    "        info = {'key': 'value'}\n",
    "        terminated = False\n",
    "    \n",
    "        return observation, reward, done, terminated, info\n",
    "\n",
    "    def reset(self, seed=None):\n",
    "        # resetarea jocului\n",
    "        if seed is not None:\n",
    "            # setarea seed-ului\n",
    "            np.random.seed(seed)\n",
    "            self.seed(seed)\n",
    "        # alte operații de resetare\n",
    "        time.sleep(1)  # așteptăm 1 secundă\n",
    "        pydirectinput.click(x=483, y=961)  # facem clic pe o anumită poziție\n",
    "        observation = self.get_observation()\n",
    "        info = {}\n",
    "        return observation , info\n",
    "\n",
    "    def render(self):\n",
    "        cv2.imshow('Game', self.current_frame)\n",
    "\n",
    "        if cv2.waitKey(1) & 0xFF == ord('q'):\n",
    "            self.close()\n",
    "\n",
    "    def close(self):\n",
    "        cv2.destroyAllWindows()\n",
    "\n",
    "    def get_observation(self):\n",
    "        raw = np.array(self.cap.grab(self.game_location))[:, :, :3].astype(np.uint8)\n",
    "        gray = cv2.cvtColor(raw, cv2.COLOR_BGR2GRAY)\n",
    "        resized = cv2.resize(gray, (100, 83))\n",
    "        channel = np.reshape(resized, (1, 83, 100))\n",
    "\n",
    "        return channel\n",
    "\n",
    "    def get_done(self):\n",
    "        done_cap = np.array(self.cap.grab(self.done_location))\n",
    "        done_strings = ['PLAY']\n",
    "        done = False\n",
    "\n",
    "        res = pytesseract.image_to_string(done_cap)[:4]\n",
    "\n",
    "        if res in done_strings:\n",
    "            done = True\n",
    "\n",
    "        return done, done_cap"
   ]
  },
  {
   "cell_type": "markdown",
   "id": "c0a1d572-51ec-4f16-b5a1-7f787944c79d",
   "metadata": {},
   "source": [
    "3. Train the Model"
   ]
  },
  {
   "cell_type": "code",
   "execution_count": 3,
   "id": "905b1511-36f7-4104-a477-1eda4a30d9ae",
   "metadata": {},
   "outputs": [],
   "source": [
    "# Import os for file path management\n",
    "import os \n",
    "# Import Base Callback for saving models\n",
    "from stable_baselines3.common.callbacks import BaseCallback\n",
    "# Check Environment    \n",
    "from stable_baselines3.common import env_checker"
   ]
  },
  {
   "cell_type": "code",
   "execution_count": 4,
   "id": "6b2365c1-4179-46f9-9b65-79fc89069fc3",
   "metadata": {},
   "outputs": [],
   "source": [
    "class TrainAndLoggingCallback(BaseCallback):\n",
    "\n",
    "    def __init__(self, check_freq, save_path, verbose=1):\n",
    "        super(TrainAndLoggingCallback, self).__init__(verbose)\n",
    "        self.check_freq = check_freq\n",
    "        self.save_path = save_path\n",
    "\n",
    "    def _init_callback(self):\n",
    "        if self.save_path is not None:\n",
    "            os.makedirs(self.save_path, exist_ok=True)\n",
    "\n",
    "    def _on_step(self):\n",
    "        if self.n_calls % self.check_freq == 0:\n",
    "            model_path = os.path.join(self.save_path, 'best_model_{}'.format(self.n_calls))\n",
    "            self.model.save(model_path)\n",
    "\n",
    "        return True"
   ]
  },
  {
   "cell_type": "code",
   "execution_count": 5,
   "id": "9eb27a36-90ca-4d6c-ac8d-f884fa4b7391",
   "metadata": {},
   "outputs": [],
   "source": [
    "CHECKPOINT_DIR = './train/'\n",
    "LOG_DIR = './logs/'\n",
    "callback = TrainAndLoggingCallback(check_freq=1000, save_path=CHECKPOINT_DIR)\n"
   ]
  },
  {
   "cell_type": "markdown",
   "id": "36f227f8-f68b-41c6-80a8-746cdfc752c6",
   "metadata": {},
   "source": [
    "4 Build DQN and Train"
   ]
  },
  {
   "cell_type": "code",
   "execution_count": 9,
   "id": "ddbae9ee-69f8-4ca6-8359-0128d646b75d",
   "metadata": {},
   "outputs": [
    {
     "name": "stdout",
     "output_type": "stream",
     "text": [
      "Using cuda device\n",
      "Wrapping the env with a `Monitor` wrapper\n",
      "Wrapping the env in a DummyVecEnv.\n"
     ]
    }
   ],
   "source": [
    "from stable_baselines3 import DQN\n",
    "from stable_baselines3.common.monitor import Monitor\n",
    "from stable_baselines3.common.vec_env import DummyVecEnv, VecFrameStack\n",
    "env = WebGame()\n",
    "model = DQN('CnnPolicy', env, tensorboard_log=LOG_DIR, verbose=1, buffer_size=200, learning_starts=10)"
   ]
  },
  {
   "cell_type": "code",
   "execution_count": 8,
   "id": "fdc2a558-2189-44dd-baed-f3f2d674ce2a",
   "metadata": {
    "scrolled": true
   },
   "outputs": [
    {
     "name": "stdout",
     "output_type": "stream",
     "text": [
      "Logging to ./logs/DQN_6\n",
      "----------------------------------\n",
      "| rollout/            |          |\n",
      "|    ep_len_mean      | 9.75     |\n",
      "|    ep_rew_mean      | 3.38     |\n",
      "|    exploration_rate | 0.05     |\n",
      "| time/               |          |\n",
      "|    episodes         | 4        |\n",
      "|    fps              | 1        |\n",
      "|    time_elapsed     | 25       |\n",
      "|    total_timesteps  | 39       |\n",
      "| train/              |          |\n",
      "|    learning_rate    | 0.0001   |\n",
      "|    loss             | 0.0545   |\n",
      "|    n_updates        | 8        |\n",
      "----------------------------------\n",
      "----------------------------------\n",
      "| rollout/            |          |\n",
      "|    ep_len_mean      | 8.12     |\n",
      "|    ep_rew_mean      | 3.31     |\n",
      "|    exploration_rate | 0.05     |\n",
      "| time/               |          |\n",
      "|    episodes         | 8        |\n",
      "|    fps              | 1        |\n",
      "|    time_elapsed     | 45       |\n",
      "|    total_timesteps  | 65       |\n",
      "| train/              |          |\n",
      "|    learning_rate    | 0.0001   |\n",
      "|    loss             | 0.0208   |\n",
      "|    n_updates        | 15       |\n",
      "----------------------------------\n",
      "----------------------------------\n",
      "| rollout/            |          |\n",
      "|    ep_len_mean      | 7.58     |\n",
      "|    ep_rew_mean      | 3.29     |\n",
      "|    exploration_rate | 0.05     |\n",
      "| time/               |          |\n",
      "|    episodes         | 12       |\n",
      "|    fps              | 1        |\n",
      "|    time_elapsed     | 65       |\n",
      "|    total_timesteps  | 91       |\n",
      "| train/              |          |\n",
      "|    learning_rate    | 0.0001   |\n",
      "|    loss             | 0.00485  |\n",
      "|    n_updates        | 21       |\n",
      "----------------------------------\n"
     ]
    },
    {
     "data": {
      "text/plain": [
       "<stable_baselines3.dqn.dqn.DQN at 0x2ac02f4cd10>"
      ]
     },
     "execution_count": 8,
     "metadata": {},
     "output_type": "execute_result"
    }
   ],
   "source": [
    "model.learn(total_timesteps=100, callback=callback)"
   ]
  },
  {
   "cell_type": "code",
   "execution_count": null,
   "id": "22b135a0-dc10-4de0-b4c7-c7366fe6c847",
   "metadata": {},
   "outputs": [],
   "source": []
  }
 ],
 "metadata": {
  "kernelspec": {
   "display_name": "Python 3 (ipykernel)",
   "language": "python",
   "name": "python3"
  },
  "language_info": {
   "codemirror_mode": {
    "name": "ipython",
    "version": 3
   },
   "file_extension": ".py",
   "mimetype": "text/x-python",
   "name": "python",
   "nbconvert_exporter": "python",
   "pygments_lexer": "ipython3",
   "version": "3.11.4"
  }
 },
 "nbformat": 4,
 "nbformat_minor": 5
}
